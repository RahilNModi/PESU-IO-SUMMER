{
 "cells": [
  {
   "cell_type": "code",
   "execution_count": 1,
   "metadata": {},
   "outputs": [],
   "source": [
    "import matplotlib.pyplot as plt\n",
    "import pandas as pd\n",
    "from pandas.plotting import scatter_matrix\n",
    "import numpy as np\n",
    "import seaborn as sns\n",
    "import statistics as st\n",
    "import re"
   ]
  },
  {
   "cell_type": "code",
   "execution_count": 2,
   "metadata": {},
   "outputs": [],
   "source": [
    "df=pd.read_csv('IDS-Data-Collection.csv')"
   ]
  },
  {
   "cell_type": "code",
   "execution_count": 3,
   "metadata": {},
   "outputs": [
    {
     "data": {
      "text/html": [
       "<div>\n",
       "<style scoped>\n",
       "    .dataframe tbody tr th:only-of-type {\n",
       "        vertical-align: middle;\n",
       "    }\n",
       "\n",
       "    .dataframe tbody tr th {\n",
       "        vertical-align: top;\n",
       "    }\n",
       "\n",
       "    .dataframe thead th {\n",
       "        text-align: right;\n",
       "    }\n",
       "</style>\n",
       "<table border=\"1\" class=\"dataframe\">\n",
       "  <thead>\n",
       "    <tr style=\"text-align: right;\">\n",
       "      <th></th>\n",
       "      <th>Age</th>\n",
       "      <th>CGPA</th>\n",
       "      <th>Rate_Programming</th>\n",
       "      <th>Mean</th>\n",
       "    </tr>\n",
       "  </thead>\n",
       "  <tbody>\n",
       "    <tr>\n",
       "      <th>count</th>\n",
       "      <td>1.820000e+02</td>\n",
       "      <td>182.000000</td>\n",
       "      <td>182.000000</td>\n",
       "      <td>1.790000e+02</td>\n",
       "    </tr>\n",
       "    <tr>\n",
       "      <th>mean</th>\n",
       "      <td>7.527474e+07</td>\n",
       "      <td>8.258984</td>\n",
       "      <td>3.131868</td>\n",
       "      <td>6.897040e+06</td>\n",
       "    </tr>\n",
       "    <tr>\n",
       "      <th>std</th>\n",
       "      <td>1.015512e+09</td>\n",
       "      <td>2.493025</td>\n",
       "      <td>0.837106</td>\n",
       "      <td>9.227594e+07</td>\n",
       "    </tr>\n",
       "    <tr>\n",
       "      <th>min</th>\n",
       "      <td>0.000000e+00</td>\n",
       "      <td>0.000000</td>\n",
       "      <td>1.000000</td>\n",
       "      <td>2.000000e-10</td>\n",
       "    </tr>\n",
       "    <tr>\n",
       "      <th>25%</th>\n",
       "      <td>1.800000e+01</td>\n",
       "      <td>7.515000</td>\n",
       "      <td>3.000000</td>\n",
       "      <td>6.000000e+00</td>\n",
       "    </tr>\n",
       "    <tr>\n",
       "      <th>50%</th>\n",
       "      <td>1.900000e+01</td>\n",
       "      <td>8.270000</td>\n",
       "      <td>3.000000</td>\n",
       "      <td>6.000000e+00</td>\n",
       "    </tr>\n",
       "    <tr>\n",
       "      <th>75%</th>\n",
       "      <td>1.900000e+01</td>\n",
       "      <td>8.900000</td>\n",
       "      <td>4.000000</td>\n",
       "      <td>6.000000e+00</td>\n",
       "    </tr>\n",
       "    <tr>\n",
       "      <th>max</th>\n",
       "      <td>1.370000e+10</td>\n",
       "      <td>33.340000</td>\n",
       "      <td>5.000000</td>\n",
       "      <td>1.234568e+09</td>\n",
       "    </tr>\n",
       "  </tbody>\n",
       "</table>\n",
       "</div>"
      ],
      "text/plain": [
       "                Age        CGPA  Rate_Programming          Mean\n",
       "count  1.820000e+02  182.000000        182.000000  1.790000e+02\n",
       "mean   7.527474e+07    8.258984          3.131868  6.897040e+06\n",
       "std    1.015512e+09    2.493025          0.837106  9.227594e+07\n",
       "min    0.000000e+00    0.000000          1.000000  2.000000e-10\n",
       "25%    1.800000e+01    7.515000          3.000000  6.000000e+00\n",
       "50%    1.900000e+01    8.270000          3.000000  6.000000e+00\n",
       "75%    1.900000e+01    8.900000          4.000000  6.000000e+00\n",
       "max    1.370000e+10   33.340000          5.000000  1.234568e+09"
      ]
     },
     "execution_count": 3,
     "metadata": {},
     "output_type": "execute_result"
    }
   ],
   "source": [
    "df.describe()"
   ]
  },
  {
   "cell_type": "code",
   "execution_count": 4,
   "metadata": {},
   "outputs": [
    {
     "data": {
      "text/html": [
       "<div>\n",
       "<style scoped>\n",
       "    .dataframe tbody tr th:only-of-type {\n",
       "        vertical-align: middle;\n",
       "    }\n",
       "\n",
       "    .dataframe tbody tr th {\n",
       "        vertical-align: top;\n",
       "    }\n",
       "\n",
       "    .dataframe thead th {\n",
       "        text-align: right;\n",
       "    }\n",
       "</style>\n",
       "<table border=\"1\" class=\"dataframe\">\n",
       "  <thead>\n",
       "    <tr style=\"text-align: right;\">\n",
       "      <th></th>\n",
       "      <th>Timestamp</th>\n",
       "      <th>Gender</th>\n",
       "      <th>Height</th>\n",
       "      <th>Weight</th>\n",
       "      <th>DOB</th>\n",
       "      <th>Age</th>\n",
       "      <th>Sun_Sign</th>\n",
       "      <th>CGPA</th>\n",
       "      <th>Rate_Programming</th>\n",
       "      <th>PL</th>\n",
       "      <th>...</th>\n",
       "      <th>Focus</th>\n",
       "      <th>DS_DA</th>\n",
       "      <th>Mean</th>\n",
       "      <th>Median</th>\n",
       "      <th>Sleep_time</th>\n",
       "      <th>sleep_duration</th>\n",
       "      <th>prefer_maths</th>\n",
       "      <th>Engg_Choice</th>\n",
       "      <th>course_instructor</th>\n",
       "      <th>physical_activity</th>\n",
       "    </tr>\n",
       "  </thead>\n",
       "  <tbody>\n",
       "    <tr>\n",
       "      <th>0</th>\n",
       "      <td>8/6/2018 11:58:38</td>\n",
       "      <td>Female</td>\n",
       "      <td>5'3</td>\n",
       "      <td>74</td>\n",
       "      <td>7/30/1999</td>\n",
       "      <td>19.0</td>\n",
       "      <td>Aquarius</td>\n",
       "      <td>8.29</td>\n",
       "      <td>3</td>\n",
       "      <td>C++</td>\n",
       "      <td>...</td>\n",
       "      <td>Data</td>\n",
       "      <td>No</td>\n",
       "      <td>6.0</td>\n",
       "      <td>8</td>\n",
       "      <td>11:00:00 PM</td>\n",
       "      <td>5</td>\n",
       "      <td>Yes</td>\n",
       "      <td>Yes</td>\n",
       "      <td>Doesn't matter</td>\n",
       "      <td>On daily basis</td>\n",
       "    </tr>\n",
       "    <tr>\n",
       "      <th>1</th>\n",
       "      <td>8/6/2018 11:59:24</td>\n",
       "      <td>Male</td>\n",
       "      <td>176</td>\n",
       "      <td>62</td>\n",
       "      <td>6/4/1999</td>\n",
       "      <td>19.0</td>\n",
       "      <td>Gemini</td>\n",
       "      <td>8.27</td>\n",
       "      <td>4</td>\n",
       "      <td>C</td>\n",
       "      <td>...</td>\n",
       "      <td>Data</td>\n",
       "      <td>May be</td>\n",
       "      <td>6.0</td>\n",
       "      <td>9</td>\n",
       "      <td>1:00:00 AM</td>\n",
       "      <td>6.5</td>\n",
       "      <td>No</td>\n",
       "      <td>Yes</td>\n",
       "      <td>Doesn't matter</td>\n",
       "      <td>Once in a week</td>\n",
       "    </tr>\n",
       "    <tr>\n",
       "      <th>2</th>\n",
       "      <td>8/6/2018 11:59:47</td>\n",
       "      <td>Male</td>\n",
       "      <td>176</td>\n",
       "      <td>62</td>\n",
       "      <td>6/4/1999</td>\n",
       "      <td>19.0</td>\n",
       "      <td>Gemini</td>\n",
       "      <td>8.27</td>\n",
       "      <td>4</td>\n",
       "      <td>C</td>\n",
       "      <td>...</td>\n",
       "      <td>Data</td>\n",
       "      <td>May be</td>\n",
       "      <td>6.0</td>\n",
       "      <td>9</td>\n",
       "      <td>1:00:00 AM</td>\n",
       "      <td>6.5</td>\n",
       "      <td>No</td>\n",
       "      <td>Yes</td>\n",
       "      <td>Doesn't matter</td>\n",
       "      <td>Once in a week</td>\n",
       "    </tr>\n",
       "    <tr>\n",
       "      <th>3</th>\n",
       "      <td>8/6/2018 11:59:53</td>\n",
       "      <td>Female</td>\n",
       "      <td>145</td>\n",
       "      <td>60</td>\n",
       "      <td>2/21/2000</td>\n",
       "      <td>18.0</td>\n",
       "      <td>Don't Know</td>\n",
       "      <td>9.21</td>\n",
       "      <td>3</td>\n",
       "      <td>Python</td>\n",
       "      <td>...</td>\n",
       "      <td>Data</td>\n",
       "      <td>No</td>\n",
       "      <td>6.0</td>\n",
       "      <td>9</td>\n",
       "      <td>11:00:00 AM</td>\n",
       "      <td>6</td>\n",
       "      <td>Yes</td>\n",
       "      <td>Yes</td>\n",
       "      <td>Doesn't matter</td>\n",
       "      <td>Once in a week</td>\n",
       "    </tr>\n",
       "    <tr>\n",
       "      <th>4</th>\n",
       "      <td>8/6/2018 11:59:58</td>\n",
       "      <td>Male</td>\n",
       "      <td>185</td>\n",
       "      <td>56</td>\n",
       "      <td>8/15/1999</td>\n",
       "      <td>19.0</td>\n",
       "      <td>Leo</td>\n",
       "      <td>8.46</td>\n",
       "      <td>4</td>\n",
       "      <td>C</td>\n",
       "      <td>...</td>\n",
       "      <td>Data</td>\n",
       "      <td>No</td>\n",
       "      <td>6.0</td>\n",
       "      <td>8</td>\n",
       "      <td>11:30:00 PM</td>\n",
       "      <td>8</td>\n",
       "      <td>Yes</td>\n",
       "      <td>Yes</td>\n",
       "      <td>Doesn't matter</td>\n",
       "      <td>Once in a week</td>\n",
       "    </tr>\n",
       "  </tbody>\n",
       "</table>\n",
       "<p>5 rows × 21 columns</p>\n",
       "</div>"
      ],
      "text/plain": [
       "           Timestamp  Gender Height Weight        DOB   Age    Sun_Sign  CGPA  \\\n",
       "0  8/6/2018 11:58:38  Female    5'3     74  7/30/1999  19.0    Aquarius  8.29   \n",
       "1  8/6/2018 11:59:24    Male    176     62   6/4/1999  19.0      Gemini  8.27   \n",
       "2  8/6/2018 11:59:47    Male    176     62   6/4/1999  19.0      Gemini  8.27   \n",
       "3  8/6/2018 11:59:53  Female    145     60  2/21/2000  18.0  Don't Know  9.21   \n",
       "4  8/6/2018 11:59:58    Male    185     56  8/15/1999  19.0         Leo  8.46   \n",
       "\n",
       "   Rate_Programming      PL  ... Focus   DS_DA Mean  Median   Sleep_time  \\\n",
       "0                 3     C++  ...  Data      No  6.0       8  11:00:00 PM   \n",
       "1                 4       C  ...  Data  May be  6.0       9   1:00:00 AM   \n",
       "2                 4       C  ...  Data  May be  6.0       9   1:00:00 AM   \n",
       "3                 3  Python  ...  Data      No  6.0       9  11:00:00 AM   \n",
       "4                 4       C  ...  Data      No  6.0       8  11:30:00 PM   \n",
       "\n",
       "  sleep_duration prefer_maths Engg_Choice course_instructor physical_activity  \n",
       "0              5          Yes         Yes    Doesn't matter    On daily basis  \n",
       "1            6.5           No         Yes    Doesn't matter    Once in a week  \n",
       "2            6.5           No         Yes    Doesn't matter    Once in a week  \n",
       "3              6          Yes         Yes    Doesn't matter    Once in a week  \n",
       "4              8          Yes         Yes    Doesn't matter    Once in a week  \n",
       "\n",
       "[5 rows x 21 columns]"
      ]
     },
     "execution_count": 4,
     "metadata": {},
     "output_type": "execute_result"
    }
   ],
   "source": [
    "df.head()"
   ]
  },
  {
   "cell_type": "code",
   "execution_count": 5,
   "metadata": {},
   "outputs": [
    {
     "data": {
      "text/html": [
       "<div>\n",
       "<style scoped>\n",
       "    .dataframe tbody tr th:only-of-type {\n",
       "        vertical-align: middle;\n",
       "    }\n",
       "\n",
       "    .dataframe tbody tr th {\n",
       "        vertical-align: top;\n",
       "    }\n",
       "\n",
       "    .dataframe thead th {\n",
       "        text-align: right;\n",
       "    }\n",
       "</style>\n",
       "<table border=\"1\" class=\"dataframe\">\n",
       "  <thead>\n",
       "    <tr style=\"text-align: right;\">\n",
       "      <th></th>\n",
       "      <th>Timestamp</th>\n",
       "      <th>Gender</th>\n",
       "      <th>Height</th>\n",
       "      <th>Weight</th>\n",
       "      <th>DOB</th>\n",
       "      <th>Age</th>\n",
       "      <th>Sun_Sign</th>\n",
       "      <th>CGPA</th>\n",
       "      <th>Rate_Programming</th>\n",
       "      <th>PL</th>\n",
       "      <th>...</th>\n",
       "      <th>Focus</th>\n",
       "      <th>DS_DA</th>\n",
       "      <th>Mean</th>\n",
       "      <th>Median</th>\n",
       "      <th>Sleep_time</th>\n",
       "      <th>sleep_duration</th>\n",
       "      <th>prefer_maths</th>\n",
       "      <th>Engg_Choice</th>\n",
       "      <th>course_instructor</th>\n",
       "      <th>physical_activity</th>\n",
       "    </tr>\n",
       "  </thead>\n",
       "  <tbody>\n",
       "    <tr>\n",
       "      <th>0</th>\n",
       "      <td>8/6/2018 11:58:38</td>\n",
       "      <td>Female</td>\n",
       "      <td>5'3</td>\n",
       "      <td>74</td>\n",
       "      <td>7/30/1999</td>\n",
       "      <td>19.0</td>\n",
       "      <td>Aquarius</td>\n",
       "      <td>8.29</td>\n",
       "      <td>3</td>\n",
       "      <td>C++</td>\n",
       "      <td>...</td>\n",
       "      <td>Data</td>\n",
       "      <td>No</td>\n",
       "      <td>6.0</td>\n",
       "      <td>8</td>\n",
       "      <td>11:00:00 PM</td>\n",
       "      <td>5</td>\n",
       "      <td>Yes</td>\n",
       "      <td>Yes</td>\n",
       "      <td>Doesn't matter</td>\n",
       "      <td>On daily basis</td>\n",
       "    </tr>\n",
       "    <tr>\n",
       "      <th>1</th>\n",
       "      <td>8/6/2018 11:59:24</td>\n",
       "      <td>Male</td>\n",
       "      <td>176</td>\n",
       "      <td>62</td>\n",
       "      <td>6/4/1999</td>\n",
       "      <td>19.0</td>\n",
       "      <td>Gemini</td>\n",
       "      <td>8.27</td>\n",
       "      <td>4</td>\n",
       "      <td>C</td>\n",
       "      <td>...</td>\n",
       "      <td>Data</td>\n",
       "      <td>May be</td>\n",
       "      <td>6.0</td>\n",
       "      <td>9</td>\n",
       "      <td>1:00:00 AM</td>\n",
       "      <td>6.5</td>\n",
       "      <td>No</td>\n",
       "      <td>Yes</td>\n",
       "      <td>Doesn't matter</td>\n",
       "      <td>Once in a week</td>\n",
       "    </tr>\n",
       "    <tr>\n",
       "      <th>2</th>\n",
       "      <td>8/6/2018 11:59:47</td>\n",
       "      <td>Male</td>\n",
       "      <td>176</td>\n",
       "      <td>62</td>\n",
       "      <td>6/4/1999</td>\n",
       "      <td>19.0</td>\n",
       "      <td>Gemini</td>\n",
       "      <td>8.27</td>\n",
       "      <td>4</td>\n",
       "      <td>C</td>\n",
       "      <td>...</td>\n",
       "      <td>Data</td>\n",
       "      <td>May be</td>\n",
       "      <td>6.0</td>\n",
       "      <td>9</td>\n",
       "      <td>1:00:00 AM</td>\n",
       "      <td>6.5</td>\n",
       "      <td>No</td>\n",
       "      <td>Yes</td>\n",
       "      <td>Doesn't matter</td>\n",
       "      <td>Once in a week</td>\n",
       "    </tr>\n",
       "    <tr>\n",
       "      <th>3</th>\n",
       "      <td>8/6/2018 11:59:53</td>\n",
       "      <td>Female</td>\n",
       "      <td>145</td>\n",
       "      <td>60</td>\n",
       "      <td>2/21/2000</td>\n",
       "      <td>18.0</td>\n",
       "      <td>Don't Know</td>\n",
       "      <td>9.21</td>\n",
       "      <td>3</td>\n",
       "      <td>Python</td>\n",
       "      <td>...</td>\n",
       "      <td>Data</td>\n",
       "      <td>No</td>\n",
       "      <td>6.0</td>\n",
       "      <td>9</td>\n",
       "      <td>11:00:00 AM</td>\n",
       "      <td>6</td>\n",
       "      <td>Yes</td>\n",
       "      <td>Yes</td>\n",
       "      <td>Doesn't matter</td>\n",
       "      <td>Once in a week</td>\n",
       "    </tr>\n",
       "    <tr>\n",
       "      <th>4</th>\n",
       "      <td>8/6/2018 11:59:58</td>\n",
       "      <td>Male</td>\n",
       "      <td>185</td>\n",
       "      <td>56</td>\n",
       "      <td>8/15/1999</td>\n",
       "      <td>19.0</td>\n",
       "      <td>Leo</td>\n",
       "      <td>8.46</td>\n",
       "      <td>4</td>\n",
       "      <td>C</td>\n",
       "      <td>...</td>\n",
       "      <td>Data</td>\n",
       "      <td>No</td>\n",
       "      <td>6.0</td>\n",
       "      <td>8</td>\n",
       "      <td>11:30:00 PM</td>\n",
       "      <td>8</td>\n",
       "      <td>Yes</td>\n",
       "      <td>Yes</td>\n",
       "      <td>Doesn't matter</td>\n",
       "      <td>Once in a week</td>\n",
       "    </tr>\n",
       "    <tr>\n",
       "      <th>5</th>\n",
       "      <td>8/6/2018 12:00:03</td>\n",
       "      <td>Male</td>\n",
       "      <td>170</td>\n",
       "      <td>79</td>\n",
       "      <td>6/21/1999</td>\n",
       "      <td>19.0</td>\n",
       "      <td>Cancer</td>\n",
       "      <td>9.70</td>\n",
       "      <td>4</td>\n",
       "      <td>C</td>\n",
       "      <td>...</td>\n",
       "      <td>Data</td>\n",
       "      <td>No</td>\n",
       "      <td>6.0</td>\n",
       "      <td>8</td>\n",
       "      <td>1:30:00 AM</td>\n",
       "      <td>5</td>\n",
       "      <td>No</td>\n",
       "      <td>Yes</td>\n",
       "      <td>Female</td>\n",
       "      <td>On daily basis</td>\n",
       "    </tr>\n",
       "    <tr>\n",
       "      <th>6</th>\n",
       "      <td>8/6/2018 12:00:03</td>\n",
       "      <td>Male</td>\n",
       "      <td>168</td>\n",
       "      <td>58</td>\n",
       "      <td>6/3/1999</td>\n",
       "      <td>19.0</td>\n",
       "      <td>Don't Know</td>\n",
       "      <td>7.46</td>\n",
       "      <td>2</td>\n",
       "      <td>C</td>\n",
       "      <td>...</td>\n",
       "      <td>Data</td>\n",
       "      <td>No</td>\n",
       "      <td>6.0</td>\n",
       "      <td>8.5</td>\n",
       "      <td>12:00:00 PM</td>\n",
       "      <td>6</td>\n",
       "      <td>Yes</td>\n",
       "      <td>Yes</td>\n",
       "      <td>Doesn't matter</td>\n",
       "      <td>On daily basis</td>\n",
       "    </tr>\n",
       "    <tr>\n",
       "      <th>7</th>\n",
       "      <td>8/6/2018 12:00:04</td>\n",
       "      <td>Female</td>\n",
       "      <td>156</td>\n",
       "      <td>63</td>\n",
       "      <td>10/25/1998</td>\n",
       "      <td>19.0</td>\n",
       "      <td>Scorpio</td>\n",
       "      <td>9.42</td>\n",
       "      <td>3</td>\n",
       "      <td>C</td>\n",
       "      <td>...</td>\n",
       "      <td>Science</td>\n",
       "      <td>No</td>\n",
       "      <td>6.0</td>\n",
       "      <td>8</td>\n",
       "      <td>12:00:00 PM</td>\n",
       "      <td>7</td>\n",
       "      <td>Yes</td>\n",
       "      <td>Yes</td>\n",
       "      <td>Doesn't matter</td>\n",
       "      <td>On daily basis</td>\n",
       "    </tr>\n",
       "    <tr>\n",
       "      <th>8</th>\n",
       "      <td>8/6/2018 12:00:18</td>\n",
       "      <td>Female</td>\n",
       "      <td>158</td>\n",
       "      <td>65</td>\n",
       "      <td>10/12/1999</td>\n",
       "      <td>18.0</td>\n",
       "      <td>Libra</td>\n",
       "      <td>9.17</td>\n",
       "      <td>3</td>\n",
       "      <td>C</td>\n",
       "      <td>...</td>\n",
       "      <td>Science</td>\n",
       "      <td>No</td>\n",
       "      <td>6.0</td>\n",
       "      <td>8</td>\n",
       "      <td>1:00:00 AM</td>\n",
       "      <td>6</td>\n",
       "      <td>Yes</td>\n",
       "      <td>Yes</td>\n",
       "      <td>Doesn't matter</td>\n",
       "      <td>On daily basis</td>\n",
       "    </tr>\n",
       "    <tr>\n",
       "      <th>9</th>\n",
       "      <td>8/6/2018 12:00:26</td>\n",
       "      <td>Male</td>\n",
       "      <td>180.34</td>\n",
       "      <td>60</td>\n",
       "      <td>7/10/1999</td>\n",
       "      <td>19.0</td>\n",
       "      <td>Cancer</td>\n",
       "      <td>8.25</td>\n",
       "      <td>4</td>\n",
       "      <td>C</td>\n",
       "      <td>...</td>\n",
       "      <td>Data</td>\n",
       "      <td>No</td>\n",
       "      <td>6.0</td>\n",
       "      <td>8</td>\n",
       "      <td>12:30:00 AM</td>\n",
       "      <td>7</td>\n",
       "      <td>NaN</td>\n",
       "      <td>Yes</td>\n",
       "      <td>Doesn't matter</td>\n",
       "      <td>On daily basis</td>\n",
       "    </tr>\n",
       "  </tbody>\n",
       "</table>\n",
       "<p>10 rows × 21 columns</p>\n",
       "</div>"
      ],
      "text/plain": [
       "           Timestamp  Gender  Height Weight         DOB   Age    Sun_Sign  \\\n",
       "0  8/6/2018 11:58:38  Female     5'3     74   7/30/1999  19.0    Aquarius   \n",
       "1  8/6/2018 11:59:24    Male     176     62    6/4/1999  19.0      Gemini   \n",
       "2  8/6/2018 11:59:47    Male     176     62    6/4/1999  19.0      Gemini   \n",
       "3  8/6/2018 11:59:53  Female     145     60   2/21/2000  18.0  Don't Know   \n",
       "4  8/6/2018 11:59:58    Male     185     56   8/15/1999  19.0         Leo   \n",
       "5  8/6/2018 12:00:03    Male     170     79   6/21/1999  19.0      Cancer   \n",
       "6  8/6/2018 12:00:03    Male     168     58    6/3/1999  19.0  Don't Know   \n",
       "7  8/6/2018 12:00:04  Female     156     63  10/25/1998  19.0     Scorpio   \n",
       "8  8/6/2018 12:00:18  Female     158     65  10/12/1999  18.0       Libra   \n",
       "9  8/6/2018 12:00:26    Male  180.34     60   7/10/1999  19.0      Cancer   \n",
       "\n",
       "   CGPA  Rate_Programming      PL  ...    Focus   DS_DA Mean  Median  \\\n",
       "0  8.29                 3     C++  ...     Data      No  6.0       8   \n",
       "1  8.27                 4       C  ...     Data  May be  6.0       9   \n",
       "2  8.27                 4       C  ...     Data  May be  6.0       9   \n",
       "3  9.21                 3  Python  ...     Data      No  6.0       9   \n",
       "4  8.46                 4       C  ...     Data      No  6.0       8   \n",
       "5  9.70                 4       C  ...     Data      No  6.0       8   \n",
       "6  7.46                 2       C  ...     Data      No  6.0     8.5   \n",
       "7  9.42                 3       C  ...  Science      No  6.0       8   \n",
       "8  9.17                 3       C  ...  Science      No  6.0       8   \n",
       "9  8.25                 4       C  ...     Data      No  6.0       8   \n",
       "\n",
       "    Sleep_time sleep_duration prefer_maths Engg_Choice course_instructor  \\\n",
       "0  11:00:00 PM              5          Yes         Yes    Doesn't matter   \n",
       "1   1:00:00 AM            6.5           No         Yes    Doesn't matter   \n",
       "2   1:00:00 AM            6.5           No         Yes    Doesn't matter   \n",
       "3  11:00:00 AM              6          Yes         Yes    Doesn't matter   \n",
       "4  11:30:00 PM              8          Yes         Yes    Doesn't matter   \n",
       "5   1:30:00 AM              5           No         Yes            Female   \n",
       "6  12:00:00 PM              6          Yes         Yes    Doesn't matter   \n",
       "7  12:00:00 PM              7          Yes         Yes    Doesn't matter   \n",
       "8   1:00:00 AM              6          Yes         Yes    Doesn't matter   \n",
       "9  12:30:00 AM              7          NaN         Yes    Doesn't matter   \n",
       "\n",
       "  physical_activity  \n",
       "0    On daily basis  \n",
       "1    Once in a week  \n",
       "2    Once in a week  \n",
       "3    Once in a week  \n",
       "4    Once in a week  \n",
       "5    On daily basis  \n",
       "6    On daily basis  \n",
       "7    On daily basis  \n",
       "8    On daily basis  \n",
       "9    On daily basis  \n",
       "\n",
       "[10 rows x 21 columns]"
      ]
     },
     "execution_count": 5,
     "metadata": {},
     "output_type": "execute_result"
    }
   ],
   "source": [
    "df.head(10)"
   ]
  },
  {
   "cell_type": "code",
   "execution_count": 6,
   "metadata": {},
   "outputs": [
    {
     "data": {
      "text/html": [
       "<div>\n",
       "<style scoped>\n",
       "    .dataframe tbody tr th:only-of-type {\n",
       "        vertical-align: middle;\n",
       "    }\n",
       "\n",
       "    .dataframe tbody tr th {\n",
       "        vertical-align: top;\n",
       "    }\n",
       "\n",
       "    .dataframe thead th {\n",
       "        text-align: right;\n",
       "    }\n",
       "</style>\n",
       "<table border=\"1\" class=\"dataframe\">\n",
       "  <thead>\n",
       "    <tr style=\"text-align: right;\">\n",
       "      <th></th>\n",
       "      <th>Timestamp</th>\n",
       "      <th>Gender</th>\n",
       "      <th>Height</th>\n",
       "      <th>Weight</th>\n",
       "      <th>DOB</th>\n",
       "      <th>Age</th>\n",
       "      <th>Sun_Sign</th>\n",
       "      <th>CGPA</th>\n",
       "      <th>Rate_Programming</th>\n",
       "      <th>PL</th>\n",
       "      <th>...</th>\n",
       "      <th>Focus</th>\n",
       "      <th>DS_DA</th>\n",
       "      <th>Mean</th>\n",
       "      <th>Median</th>\n",
       "      <th>Sleep_time</th>\n",
       "      <th>sleep_duration</th>\n",
       "      <th>prefer_maths</th>\n",
       "      <th>Engg_Choice</th>\n",
       "      <th>course_instructor</th>\n",
       "      <th>physical_activity</th>\n",
       "    </tr>\n",
       "  </thead>\n",
       "  <tbody>\n",
       "    <tr>\n",
       "      <th>177</th>\n",
       "      <td>8/7/2018 11:04:24</td>\n",
       "      <td>Male</td>\n",
       "      <td>170</td>\n",
       "      <td>69</td>\n",
       "      <td>7/23/1999</td>\n",
       "      <td>19.0</td>\n",
       "      <td>Leo</td>\n",
       "      <td>7.58</td>\n",
       "      <td>3</td>\n",
       "      <td>C</td>\n",
       "      <td>...</td>\n",
       "      <td>Data</td>\n",
       "      <td>Yes</td>\n",
       "      <td>6.0</td>\n",
       "      <td>5.5</td>\n",
       "      <td>11:00:00 PM</td>\n",
       "      <td>7</td>\n",
       "      <td>Yes</td>\n",
       "      <td>Yes</td>\n",
       "      <td>Doesn't matter</td>\n",
       "      <td>On daily basis</td>\n",
       "    </tr>\n",
       "    <tr>\n",
       "      <th>178</th>\n",
       "      <td>8/7/2018 11:04:32</td>\n",
       "      <td>Male</td>\n",
       "      <td>165</td>\n",
       "      <td>55</td>\n",
       "      <td>7/21/1999</td>\n",
       "      <td>19.0</td>\n",
       "      <td>Libra</td>\n",
       "      <td>9.82</td>\n",
       "      <td>4</td>\n",
       "      <td>Python</td>\n",
       "      <td>...</td>\n",
       "      <td>Science</td>\n",
       "      <td>Yes</td>\n",
       "      <td>6.0</td>\n",
       "      <td>8</td>\n",
       "      <td>10:30:00 PM</td>\n",
       "      <td>8</td>\n",
       "      <td>Yes</td>\n",
       "      <td>Yes</td>\n",
       "      <td>Female</td>\n",
       "      <td>Not so often</td>\n",
       "    </tr>\n",
       "    <tr>\n",
       "      <th>179</th>\n",
       "      <td>8/7/2018 11:05:23</td>\n",
       "      <td>Male</td>\n",
       "      <td>5.9</td>\n",
       "      <td>65</td>\n",
       "      <td>5/16/1999</td>\n",
       "      <td>19.0</td>\n",
       "      <td>Taurus</td>\n",
       "      <td>8.00</td>\n",
       "      <td>4</td>\n",
       "      <td>C</td>\n",
       "      <td>...</td>\n",
       "      <td>Data</td>\n",
       "      <td>May be</td>\n",
       "      <td>NaN</td>\n",
       "      <td>8</td>\n",
       "      <td>11:30:00 PM</td>\n",
       "      <td>7</td>\n",
       "      <td>Yes</td>\n",
       "      <td>Doesn't matter</td>\n",
       "      <td>Doesn't matter</td>\n",
       "      <td>Not so often</td>\n",
       "    </tr>\n",
       "    <tr>\n",
       "      <th>180</th>\n",
       "      <td>8/7/2018 18:23:17</td>\n",
       "      <td>Male</td>\n",
       "      <td>170</td>\n",
       "      <td>50</td>\n",
       "      <td>9/7/1999</td>\n",
       "      <td>19.0</td>\n",
       "      <td>Capricorn</td>\n",
       "      <td>9.22</td>\n",
       "      <td>4</td>\n",
       "      <td>C</td>\n",
       "      <td>...</td>\n",
       "      <td>Science</td>\n",
       "      <td>No</td>\n",
       "      <td>6.0</td>\n",
       "      <td>8</td>\n",
       "      <td>11:00:00 PM</td>\n",
       "      <td>7</td>\n",
       "      <td>Yes</td>\n",
       "      <td>Yes</td>\n",
       "      <td>Doesn't matter</td>\n",
       "      <td>Once in a week</td>\n",
       "    </tr>\n",
       "    <tr>\n",
       "      <th>181</th>\n",
       "      <td>8/13/2018 18:36:34</td>\n",
       "      <td>Male</td>\n",
       "      <td>185</td>\n",
       "      <td>114</td>\n",
       "      <td>12/30/1998</td>\n",
       "      <td>19.0</td>\n",
       "      <td>Capricorn</td>\n",
       "      <td>8.05</td>\n",
       "      <td>4</td>\n",
       "      <td>Python</td>\n",
       "      <td>...</td>\n",
       "      <td>Science</td>\n",
       "      <td>No</td>\n",
       "      <td>6.0</td>\n",
       "      <td>9</td>\n",
       "      <td>12:30:00 PM</td>\n",
       "      <td>6</td>\n",
       "      <td>No</td>\n",
       "      <td>Yes</td>\n",
       "      <td>Female</td>\n",
       "      <td>Not so often</td>\n",
       "    </tr>\n",
       "  </tbody>\n",
       "</table>\n",
       "<p>5 rows × 21 columns</p>\n",
       "</div>"
      ],
      "text/plain": [
       "              Timestamp Gender Height Weight         DOB   Age   Sun_Sign  \\\n",
       "177   8/7/2018 11:04:24   Male    170     69   7/23/1999  19.0        Leo   \n",
       "178   8/7/2018 11:04:32   Male    165     55   7/21/1999  19.0      Libra   \n",
       "179   8/7/2018 11:05:23   Male    5.9     65   5/16/1999  19.0     Taurus   \n",
       "180   8/7/2018 18:23:17   Male    170     50    9/7/1999  19.0  Capricorn   \n",
       "181  8/13/2018 18:36:34   Male    185    114  12/30/1998  19.0  Capricorn   \n",
       "\n",
       "     CGPA  Rate_Programming      PL  ...    Focus   DS_DA Mean  Median  \\\n",
       "177  7.58                 3       C  ...     Data     Yes  6.0     5.5   \n",
       "178  9.82                 4  Python  ...  Science     Yes  6.0       8   \n",
       "179  8.00                 4       C  ...     Data  May be  NaN       8   \n",
       "180  9.22                 4       C  ...  Science      No  6.0       8   \n",
       "181  8.05                 4  Python  ...  Science      No  6.0       9   \n",
       "\n",
       "      Sleep_time sleep_duration prefer_maths     Engg_Choice  \\\n",
       "177  11:00:00 PM              7          Yes             Yes   \n",
       "178  10:30:00 PM              8          Yes             Yes   \n",
       "179  11:30:00 PM              7          Yes  Doesn't matter   \n",
       "180  11:00:00 PM              7          Yes             Yes   \n",
       "181  12:30:00 PM              6           No             Yes   \n",
       "\n",
       "    course_instructor physical_activity  \n",
       "177    Doesn't matter    On daily basis  \n",
       "178            Female      Not so often  \n",
       "179    Doesn't matter      Not so often  \n",
       "180    Doesn't matter    Once in a week  \n",
       "181            Female      Not so often  \n",
       "\n",
       "[5 rows x 21 columns]"
      ]
     },
     "execution_count": 6,
     "metadata": {},
     "output_type": "execute_result"
    }
   ],
   "source": [
    "df.tail()"
   ]
  },
  {
   "cell_type": "code",
   "execution_count": 7,
   "metadata": {},
   "outputs": [
    {
     "data": {
      "text/plain": [
       "Index(['Timestamp', 'Gender', 'Height', 'Weight', 'DOB', 'Age', 'Sun_Sign',\n",
       "       'CGPA', 'Rate_Programming', 'PL', 'Sim_Course', 'Focus', 'DS_DA',\n",
       "       'Mean', 'Median', 'Sleep_time', 'sleep_duration', 'prefer_maths',\n",
       "       'Engg_Choice', 'course_instructor', 'physical_activity'],\n",
       "      dtype='object')"
      ]
     },
     "execution_count": 7,
     "metadata": {},
     "output_type": "execute_result"
    }
   ],
   "source": [
    "df.columns"
   ]
  },
  {
   "cell_type": "code",
   "execution_count": 8,
   "metadata": {},
   "outputs": [
    {
     "data": {
      "text/plain": [
       "(182, 21)"
      ]
     },
     "execution_count": 8,
     "metadata": {},
     "output_type": "execute_result"
    }
   ],
   "source": [
    "df.shape"
   ]
  },
  {
   "cell_type": "code",
   "execution_count": 9,
   "metadata": {
    "scrolled": true
   },
   "outputs": [
    {
     "data": {
      "text/plain": [
       "0      8.290\n",
       "1      8.270\n",
       "2      8.270\n",
       "3      9.210\n",
       "4      8.460\n",
       "5      9.700\n",
       "6      7.460\n",
       "7      9.420\n",
       "8      9.170\n",
       "9      8.250\n",
       "10     6.500\n",
       "11     8.750\n",
       "12     7.250\n",
       "13     7.940\n",
       "14     8.620\n",
       "15     7.230\n",
       "16     8.750\n",
       "17     9.520\n",
       "18     7.560\n",
       "19     7.920\n",
       "20     6.300\n",
       "21     9.540\n",
       "22     7.565\n",
       "23     6.000\n",
       "24     7.650\n",
       "25     9.190\n",
       "26     7.850\n",
       "27     9.040\n",
       "28     8.790\n",
       "29     8.500\n",
       "       ...  \n",
       "152    7.200\n",
       "153    6.670\n",
       "154    9.100\n",
       "155    7.000\n",
       "156    7.880\n",
       "157    7.750\n",
       "158    8.000\n",
       "159    7.750\n",
       "160    9.325\n",
       "161    8.670\n",
       "162    8.200\n",
       "163    8.400\n",
       "164    8.400\n",
       "165    7.000\n",
       "166    7.730\n",
       "167    7.000\n",
       "168    8.700\n",
       "169    8.580\n",
       "170    8.500\n",
       "171    8.960\n",
       "172    7.000\n",
       "173    7.300\n",
       "174    8.830\n",
       "175    8.410\n",
       "176    6.400\n",
       "177    7.580\n",
       "178    9.820\n",
       "179    8.000\n",
       "180    9.220\n",
       "181    8.050\n",
       "Name: CGPA, Length: 182, dtype: float64"
      ]
     },
     "execution_count": 9,
     "metadata": {},
     "output_type": "execute_result"
    }
   ],
   "source": [
    "df.CGPA"
   ]
  },
  {
   "cell_type": "code",
   "execution_count": 40,
   "metadata": {},
   "outputs": [
    {
     "data": {
      "text/plain": [
       "7.88"
      ]
     },
     "execution_count": 40,
     "metadata": {},
     "output_type": "execute_result"
    }
   ],
   "source": [
    "df.CGPA.loc[156]"
   ]
  },
  {
   "cell_type": "code",
   "execution_count": 3,
   "metadata": {},
   "outputs": [
    {
     "name": "stderr",
     "output_type": "stream",
     "text": [
      "c:\\users\\dell\\appdata\\local\\programs\\python\\python37-32\\lib\\site-packages\\pandas\\core\\indexing.py:190: SettingWithCopyWarning: \n",
      "A value is trying to be set on a copy of a slice from a DataFrame\n",
      "\n",
      "See the caveats in the documentation: http://pandas.pydata.org/pandas-docs/stable/indexing.html#indexing-view-versus-copy\n",
      "  self._setitem_with_indexer(indexer, value)\n"
     ]
    },
    {
     "name": "stdout",
     "output_type": "stream",
     "text": [
      "168.57500000000002\n"
     ]
    }
   ],
   "source": [
    "def isfloat(value):\n",
    "    try:\n",
    "        float(value)\n",
    "        return True\n",
    "    except:\n",
    "        return False\n",
    "for index,row in df.Height.iteritems():\n",
    "    if isfloat(row):\n",
    "        if(float(row)<10):\n",
    "            df.Height.loc[index]=float(row)*30.48\n",
    "        else:\n",
    "             df.Height.loc[index]=float(row)\n",
    "    else:\n",
    "        y=re.split(\"['|cm|mm]\",row)\n",
    "        if isfloat(y[0]):\n",
    "            if(float(y[0])<10):\n",
    "                df.Height.loc[index]=float(y[0])*30.48+float(y[1])*2.4\n",
    "            else:\n",
    "                df.Height.loc[index]=float(y[0])\n",
    "        else:\n",
    "            df.Height.loc[index]=np.NaN\n",
    "df.Height=df.Height.fillna(np.mean(df.Height))\n",
    "print(np.mean(df.Height))"
   ]
  },
  {
   "cell_type": "code",
   "execution_count": 57,
   "metadata": {
    "scrolled": true
   },
   "outputs": [
    {
     "name": "stdout",
     "output_type": "stream",
     "text": [
      "Help on function mean in module numpy.core.fromnumeric:\n",
      "\n",
      "mean(a, axis=None, dtype=None, out=None, keepdims=<no value>)\n",
      "    Compute the arithmetic mean along the specified axis.\n",
      "    \n",
      "    Returns the average of the array elements.  The average is taken over\n",
      "    the flattened array by default, otherwise over the specified axis.\n",
      "    `float64` intermediate and return values are used for integer inputs.\n",
      "    \n",
      "    Parameters\n",
      "    ----------\n",
      "    a : array_like\n",
      "        Array containing numbers whose mean is desired. If `a` is not an\n",
      "        array, a conversion is attempted.\n",
      "    axis : None or int or tuple of ints, optional\n",
      "        Axis or axes along which the means are computed. The default is to\n",
      "        compute the mean of the flattened array.\n",
      "    \n",
      "        .. versionadded:: 1.7.0\n",
      "    \n",
      "        If this is a tuple of ints, a mean is performed over multiple axes,\n",
      "        instead of a single axis or all the axes as before.\n",
      "    dtype : data-type, optional\n",
      "        Type to use in computing the mean.  For integer inputs, the default\n",
      "        is `float64`; for floating point inputs, it is the same as the\n",
      "        input dtype.\n",
      "    out : ndarray, optional\n",
      "        Alternate output array in which to place the result.  The default\n",
      "        is ``None``; if provided, it must have the same shape as the\n",
      "        expected output, but the type will be cast if necessary.\n",
      "        See `doc.ufuncs` for details.\n",
      "    \n",
      "    keepdims : bool, optional\n",
      "        If this is set to True, the axes which are reduced are left\n",
      "        in the result as dimensions with size one. With this option,\n",
      "        the result will broadcast correctly against the input array.\n",
      "    \n",
      "        If the default value is passed, then `keepdims` will not be\n",
      "        passed through to the `mean` method of sub-classes of\n",
      "        `ndarray`, however any non-default value will be.  If the\n",
      "        sub-class' method does not implement `keepdims` any\n",
      "        exceptions will be raised.\n",
      "    \n",
      "    Returns\n",
      "    -------\n",
      "    m : ndarray, see dtype parameter above\n",
      "        If `out=None`, returns a new array containing the mean values,\n",
      "        otherwise a reference to the output array is returned.\n",
      "    \n",
      "    See Also\n",
      "    --------\n",
      "    average : Weighted average\n",
      "    std, var, nanmean, nanstd, nanvar\n",
      "    \n",
      "    Notes\n",
      "    -----\n",
      "    The arithmetic mean is the sum of the elements along the axis divided\n",
      "    by the number of elements.\n",
      "    \n",
      "    Note that for floating-point input, the mean is computed using the\n",
      "    same precision the input has.  Depending on the input data, this can\n",
      "    cause the results to be inaccurate, especially for `float32` (see\n",
      "    example below).  Specifying a higher-precision accumulator using the\n",
      "    `dtype` keyword can alleviate this issue.\n",
      "    \n",
      "    By default, `float16` results are computed using `float32` intermediates\n",
      "    for extra precision.\n",
      "    \n",
      "    Examples\n",
      "    --------\n",
      "    >>> a = np.array([[1, 2], [3, 4]])\n",
      "    >>> np.mean(a)\n",
      "    2.5\n",
      "    >>> np.mean(a, axis=0)\n",
      "    array([ 2.,  3.])\n",
      "    >>> np.mean(a, axis=1)\n",
      "    array([ 1.5,  3.5])\n",
      "    \n",
      "    In single precision, `mean` can be inaccurate:\n",
      "    \n",
      "    >>> a = np.zeros((2, 512*512), dtype=np.float32)\n",
      "    >>> a[0, :] = 1.0\n",
      "    >>> a[1, :] = 0.1\n",
      "    >>> np.mean(a)\n",
      "    0.54999924\n",
      "    \n",
      "    Computing the mean in float64 is more accurate:\n",
      "    \n",
      "    >>> np.mean(a, dtype=np.float64)\n",
      "    0.55000000074505806\n",
      "\n"
     ]
    }
   ],
   "source": [
    "help(np.mean)"
   ]
  },
  {
   "cell_type": "code",
   "execution_count": 65,
   "metadata": {},
   "outputs": [
    {
     "data": {
      "text/plain": [
       "322.02658888888885"
      ]
     },
     "execution_count": 65,
     "metadata": {},
     "output_type": "execute_result"
    }
   ],
   "source": [
    "df.Height.loc[100]"
   ]
  },
  {
   "cell_type": "code",
   "execution_count": 70,
   "metadata": {},
   "outputs": [
    {
     "data": {
      "text/plain": [
       "Text(0, 0.5, 'Frequency')"
      ]
     },
     "execution_count": 70,
     "metadata": {},
     "output_type": "execute_result"
    },
    {
     "data": {
      "image/png": "[encoded data removed]",
      "text/plain": [
       "<Figure size 432x288 with 1 Axes>"
      ]
     },
     "metadata": {
      "needs_background": "light"
     },
     "output_type": "display_data"
    }
   ],
   "source": [
    "freq,bins,patch=plt.hist(df.CGPA)\n",
    "plt.title(\"CGPA HISTOGRAM\")\n",
    "plt.xlabel(\"CGPA\")\n",
    "plt.ylabel(\"Frequency\")"
   ]
  },
  {
   "cell_type": "code",
   "execution_count": 8,
   "metadata": {},
   "outputs": [
    {
     "data": {
      "image/png": "[encoded data removed]",
      "text/plain": [
       "<Figure size 432x288 with 1 Axes>"
      ]
     },
     "metadata": {
      "needs_background": "light"
     },
     "output_type": "display_data"
    }
   ],
   "source": [
    "plt.hist(df.Height)\n",
    "plt.xlabel('Height')\n",
    "plt.ylabel('Frequency')\n",
    "plt.title('Height Histogram')\n",
    "plt.show()"
   ]
  },
  {
   "cell_type": "code",
   "execution_count": 6,
   "metadata": {},
   "outputs": [
    {
     "data": {
      "image/png": "[encoded data removed]",
      "text/plain": [
       "<Figure size 432x288 with 1 Axes>"
      ]
     },
     "metadata": {
      "needs_background": "light"
     },
     "output_type": "display_data"
    }
   ],
   "source": [
    "sns.distplot(df.Height)\n",
    "plt.show()"
   ]
  },
  {
   "cell_type": "code",
   "execution_count": 5,
   "metadata": {},
   "outputs": [
    {
     "data": {
      "image/png": "[encoded data removed]",
      "text/plain": [
       "<Figure size 432x288 with 1 Axes>"
      ]
     },
     "metadata": {
      "needs_background": "light"
     },
     "output_type": "display_data"
    }
   ],
   "source": [
    "plt.hist(df.Height)\n",
    "plt.xlabel('Height')\n",
    "plt.ylabel('Frequency')\n",
    "plt.title('Height Histogram')\n",
    "plt.show()"
   ]
  },
  {
   "cell_type": "code",
   "execution_count": 9,
   "metadata": {},
   "outputs": [],
   "source": [
    "for index,row in df.CGPA.iteritems():\n",
    "    if row<2.5 or row>10:\n",
    "        df.CGPA.loc[index]=np.median(df.CGPA)"
   ]
  },
  {
   "cell_type": "code",
   "execution_count": 10,
   "metadata": {},
   "outputs": [
    {
     "data": {
      "image/png": "[encoded data removed]",
      "text/plain": [
       "<Figure size 432x288 with 1 Axes>"
      ]
     },
     "metadata": {
      "needs_background": "light"
     },
     "output_type": "display_data"
    }
   ],
   "source": [
    "plt.scatter(df.Height,df.CGPA)\n",
    "plt.title('Height vs CGPA')\n",
    "plt.xlabel('Height')\n",
    "plt.ylabel('CGPA')\n",
    "plt.show()"
   ]
  },
  {
   "cell_type": "code",
   "execution_count": 13,
   "metadata": {},
   "outputs": [
    {
     "data": {
      "image/png": "[encoded data removed]",
      "text/plain": [
       "<Figure size 432x288 with 1 Axes>"
      ]
     },
     "metadata": {
      "needs_background": "light"
     },
     "output_type": "display_data"
    }
   ],
   "source": [
    "df.Engg_Choice.value_counts().plot(kind='bar')\n",
    "plt.title('ENG_CHOICE')\n",
    "plt.xlabel('choice')\n",
    "plt.ylabel('freq')\n",
    "plt.show()"
   ]
  },
  {
   "cell_type": "code",
   "execution_count": 34,
   "metadata": {},
   "outputs": [
    {
     "data": {
      "image/png": "[encoded data removed]",
      "text/plain": [
       "<Figure size 432x288 with 1 Axes>"
      ]
     },
     "metadata": {},
     "output_type": "display_data"
    }
   ],
   "source": [
    "df.Focus.value_counts().plot(kind='pie')\n",
    "plt.title('ENG_CHOICE')\n",
    "plt.xlabel('choice')\n",
    "plt.ylabel('freq')\n",
    "plt.show()"
   ]
  },
  {
   "cell_type": "code",
   "execution_count": 35,
   "metadata": {},
   "outputs": [
    {
     "data": {
      "image/png": "[encoded data removed]",
      "text/plain": [
       "<Figure size 432x288 with 1 Axes>"
      ]
     },
     "metadata": {
      "needs_background": "light"
     },
     "output_type": "display_data"
    }
   ],
   "source": [
    "sns.boxplot(x='Gender',y='CGPA',data=df)\n",
    "plt.ylim(0,11)\n",
    "plt.show()"
   ]
  },
  {
   "cell_type": "code",
   "execution_count": 54,
   "metadata": {},
   "outputs": [
    {
     "data": {
      "image/png": "[encoded data removed]",
      "text/plain": [
       "<Figure size 432x288 with 1 Axes>"
      ]
     },
     "metadata": {
      "needs_background": "light"
     },
     "output_type": "display_data"
    }
   ],
   "source": [
    "x=sns.boxplot(x='physical_activity',y='CGPA',data=df)\n",
    "plt.ylim(0,11)\n",
    "plt.show()"
   ]
  },
  {
   "cell_type": "code",
   "execution_count": 50,
   "metadata": {},
   "outputs": [
    {
     "data": {
      "image/png": "[encoded data removed]",
      "text/plain": [
       "<Figure size 432.625x360 with 1 Axes>"
      ]
     },
     "metadata": {
      "needs_background": "light"
     },
     "output_type": "display_data"
    }
   ],
   "source": [
    "x=sns.factorplot(x=\"physical_activity\",y='CGPA',hue='Gender',kind='bar',ci=None,data=df)\n",
    "x.set_xticklabels(rotation=90)\n",
    "plt.show()"
   ]
  }
 ],
 "metadata": {
  "kernelspec": {
   "display_name": "Python 3",
   "language": "python",
   "name": "python3"
  },
  "language_info": {
   "codemirror_mode": {
    "name": "ipython",
    "version": 3
   },
   "file_extension": ".py",
   "mimetype": "text/x-python",
   "name": "python",
   "nbconvert_exporter": "python",
   "pygments_lexer": "ipython3",
   "version": "3.7.0"
  }
 },
 "nbformat": 4,
 "nbformat_minor": 2
}
